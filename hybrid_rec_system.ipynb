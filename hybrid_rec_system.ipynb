{
 "cells": [
  {
   "cell_type": "code",
   "execution_count": 14,
   "id": "e48118e5",
   "metadata": {},
   "outputs": [],
   "source": [
    "import numpy as np\n",
    "import pandas as pd\n",
    "import matplotlib.pyplot as plt\n",
    "import seaborn as sns\n",
    "import pickle\n",
    "import re\n",
    "\n",
    "from sklearn.preprocessing import LabelEncoder\n",
    "from sklearn.metrics.pairwise import cosine_similarity\n",
    "from sklearn.preprocessing import MinMaxScaler\n",
    "from sklearn.model_selection import train_test_split\n",
    "from sklearn.metrics import mean_squared_error, mean_absolute_error\n",
    "from gensim.models.doc2vec import Doc2Vec, TaggedDocument\n",
    "from tqdm import tqdm\n"
   ]
  },
  {
   "cell_type": "markdown",
   "id": "9293cfc0",
   "metadata": {},
   "source": [
    "### Загрузка данных"
   ]
  },
  {
   "cell_type": "code",
   "execution_count": 2,
   "id": "6c76e9e7",
   "metadata": {},
   "outputs": [],
   "source": [
    "pd.set_option(\"display.max_columns\", None)\n",
    "\n",
    "games_df = pd.read_parquet(\"source/games.parquet\")"
   ]
  },
  {
   "cell_type": "markdown",
   "id": "771f18e1",
   "metadata": {},
   "source": [
    "### Объединение текстовых данных"
   ]
  },
  {
   "cell_type": "code",
   "execution_count": 3,
   "id": "32f1093a",
   "metadata": {},
   "outputs": [],
   "source": [
    "games_df.replace('Unknown', np.nan, inplace=True)\n",
    "\n",
    "games_df['combined_text'] = games_df[['game_description', 'reviews_summary', 'popular_tags', 'game_features']].fillna('').agg(' '.join, axis=1).str.lower()"
   ]
  },
  {
   "cell_type": "markdown",
   "id": "c9a15c0a",
   "metadata": {},
   "source": [
    "### Преобразование цен в числовой формат"
   ]
  },
  {
   "cell_type": "code",
   "execution_count": 4,
   "id": "a6924a8c",
   "metadata": {},
   "outputs": [
    {
     "data": {
      "text/html": [
       "<div>\n",
       "<style scoped>\n",
       "    .dataframe tbody tr th:only-of-type {\n",
       "        vertical-align: middle;\n",
       "    }\n",
       "\n",
       "    .dataframe tbody tr th {\n",
       "        vertical-align: top;\n",
       "    }\n",
       "\n",
       "    .dataframe thead th {\n",
       "        text-align: right;\n",
       "    }\n",
       "</style>\n",
       "<table border=\"1\" class=\"dataframe\">\n",
       "  <thead>\n",
       "    <tr style=\"text-align: right;\">\n",
       "      <th></th>\n",
       "      <th>title</th>\n",
       "      <th>original_price</th>\n",
       "      <th>release_date</th>\n",
       "      <th>game_description</th>\n",
       "      <th>reviews_summary</th>\n",
       "      <th>developer</th>\n",
       "      <th>publisher</th>\n",
       "      <th>supported_languages</th>\n",
       "      <th>popular_tags</th>\n",
       "      <th>game_features</th>\n",
       "      <th>minimum_requirements</th>\n",
       "      <th>normalized_title</th>\n",
       "      <th>combined_text</th>\n",
       "      <th>price</th>\n",
       "    </tr>\n",
       "  </thead>\n",
       "  <tbody>\n",
       "    <tr>\n",
       "      <th>0</th>\n",
       "      <td>Baldur's Gate 3</td>\n",
       "      <td>$29.99</td>\n",
       "      <td>2023-08-03</td>\n",
       "      <td>Baldur’s Gate 3 is a story-rich, party-based R...</td>\n",
       "      <td>Very Positive</td>\n",
       "      <td>Larian Studios</td>\n",
       "      <td>Larian Studios</td>\n",
       "      <td>['English', 'French', 'German', 'Spanish - Spa...</td>\n",
       "      <td>['RPG', 'Choices Matter', 'Character Customiza...</td>\n",
       "      <td>['Single-player', 'Online Co-op', 'LAN Co-op',...</td>\n",
       "      <td>Requires a 64-bit processor and operating syst...</td>\n",
       "      <td>baldurs gate 3</td>\n",
       "      <td>baldur’s gate 3 is a story-rich, party-based r...</td>\n",
       "      <td>29.99</td>\n",
       "    </tr>\n",
       "    <tr>\n",
       "      <th>1</th>\n",
       "      <td>Counter-Strike: Global Offensive</td>\n",
       "      <td>$14.99</td>\n",
       "      <td>2012-08-21</td>\n",
       "      <td>Counter-Strike: Global Offensive (CS: GO) expa...</td>\n",
       "      <td>Very Positive</td>\n",
       "      <td>Valve, Hidden Path Entertainment</td>\n",
       "      <td>Valve</td>\n",
       "      <td>['English', 'Czech', 'Danish', 'Dutch', 'Finni...</td>\n",
       "      <td>['FPS', 'Shooter', 'Multiplayer', 'Competitive...</td>\n",
       "      <td>['Steam Achievements', 'Full controller suppor...</td>\n",
       "      <td>OS: |  Windows® 7/Vista/XP | Processor: |  Int...</td>\n",
       "      <td>counterstrike global offensive</td>\n",
       "      <td>counter-strike: global offensive (cs: go) expa...</td>\n",
       "      <td>14.99</td>\n",
       "    </tr>\n",
       "    <tr>\n",
       "      <th>2</th>\n",
       "      <td>Apex Legends™</td>\n",
       "      <td>Free</td>\n",
       "      <td>2020-11-04</td>\n",
       "      <td>Apex Legends is the award-winning, free-to-pla...</td>\n",
       "      <td>Very Positive</td>\n",
       "      <td>Respawn Entertainment</td>\n",
       "      <td>Electronic Arts</td>\n",
       "      <td>['English', 'French', 'Italian', 'German', 'Sp...</td>\n",
       "      <td>['Free to Play', 'Multiplayer', 'Battle Royale...</td>\n",
       "      <td>['Online PvP', 'Online Co-op', 'Steam Achievem...</td>\n",
       "      <td>Requires a 64-bit processor and operating syst...</td>\n",
       "      <td>apex legends</td>\n",
       "      <td>apex legends is the award-winning, free-to-pla...</td>\n",
       "      <td>0.00</td>\n",
       "    </tr>\n",
       "    <tr>\n",
       "      <th>3</th>\n",
       "      <td>Forza Horizon 5</td>\n",
       "      <td>$34.78</td>\n",
       "      <td>2021-11-08</td>\n",
       "      <td>Your Ultimate Horizon Adventure awaits! Explor...</td>\n",
       "      <td>Very Positive</td>\n",
       "      <td>Playground Games</td>\n",
       "      <td>Xbox Game Studios</td>\n",
       "      <td>['English', 'French', 'Italian', 'German', 'Sp...</td>\n",
       "      <td>['Racing', 'Open World', 'Driving', 'Multiplay...</td>\n",
       "      <td>['Single-player', 'Online PvP', 'Online Co-op'...</td>\n",
       "      <td>Requires a 64-bit processor and operating syst...</td>\n",
       "      <td>forza horizon 5</td>\n",
       "      <td>your ultimate horizon adventure awaits! explor...</td>\n",
       "      <td>34.78</td>\n",
       "    </tr>\n",
       "    <tr>\n",
       "      <th>4</th>\n",
       "      <td>Call of Duty®</td>\n",
       "      <td>Free</td>\n",
       "      <td>2022-10-27</td>\n",
       "      <td>Welcome to Call of Duty® HQ, the home of Call ...</td>\n",
       "      <td>Mixed</td>\n",
       "      <td>Infinity Ward, Raven Software, Beenox, Treyarc...</td>\n",
       "      <td>Activision</td>\n",
       "      <td>['English', 'French', 'Italian', 'German', 'Sp...</td>\n",
       "      <td>['FPS', 'Multiplayer', 'Shooter', 'Action', 'S...</td>\n",
       "      <td>['Single-player', 'Online PvP', 'Online Co-op'...</td>\n",
       "      <td>Requires a 64-bit processor and operating syst...</td>\n",
       "      <td>call of duty</td>\n",
       "      <td>welcome to call of duty® hq, the home of call ...</td>\n",
       "      <td>0.00</td>\n",
       "    </tr>\n",
       "    <tr>\n",
       "      <th>...</th>\n",
       "      <td>...</td>\n",
       "      <td>...</td>\n",
       "      <td>...</td>\n",
       "      <td>...</td>\n",
       "      <td>...</td>\n",
       "      <td>...</td>\n",
       "      <td>...</td>\n",
       "      <td>...</td>\n",
       "      <td>...</td>\n",
       "      <td>...</td>\n",
       "      <td>...</td>\n",
       "      <td>...</td>\n",
       "      <td>...</td>\n",
       "      <td>...</td>\n",
       "    </tr>\n",
       "    <tr>\n",
       "      <th>60024</th>\n",
       "      <td>Cruo Domine</td>\n",
       "      <td>Free</td>\n",
       "      <td>2023-04-21</td>\n",
       "      <td>Survive in a hostile space environment with ra...</td>\n",
       "      <td>NaN</td>\n",
       "      <td>Jiri Otoupal</td>\n",
       "      <td>Jiri Otoupal</td>\n",
       "      <td>['English']</td>\n",
       "      <td>['Early Access', 'Action', 'Adventure', 'RPG',...</td>\n",
       "      <td>['Single-player', 'Steam Achievements', 'Track...</td>\n",
       "      <td>Requires a 64-bit processor and operating syst...</td>\n",
       "      <td>cruo domine</td>\n",
       "      <td>survive in a hostile space environment with ra...</td>\n",
       "      <td>0.00</td>\n",
       "    </tr>\n",
       "    <tr>\n",
       "      <th>60025</th>\n",
       "      <td>Retchid</td>\n",
       "      <td>$12.49</td>\n",
       "      <td>2023-08-18</td>\n",
       "      <td>You are a TEC Engineer from Earth ordered to r...</td>\n",
       "      <td>NaN</td>\n",
       "      <td>From Beneath Software</td>\n",
       "      <td>From Beneath Software</td>\n",
       "      <td>['English']</td>\n",
       "      <td>['Early Access', 'Action', 'FPS', 'Shooter', '...</td>\n",
       "      <td>['Single-player', 'Partial Controller Support']</td>\n",
       "      <td>Requires a 64-bit processor and operating syst...</td>\n",
       "      <td>retchid</td>\n",
       "      <td>you are a tec engineer from earth ordered to r...</td>\n",
       "      <td>12.49</td>\n",
       "    </tr>\n",
       "    <tr>\n",
       "      <th>60026</th>\n",
       "      <td>Dungeon Legend</td>\n",
       "      <td>$14.49</td>\n",
       "      <td>2023-04-01</td>\n",
       "      <td>This is a casual breakout game. The pace of th...</td>\n",
       "      <td>NaN</td>\n",
       "      <td>Louis Winfield Game Studios</td>\n",
       "      <td>Louis Winfield Game Studios</td>\n",
       "      <td>['English']</td>\n",
       "      <td>['Casual', 'Rhythm', '3D Platformer', '2.5D', ...</td>\n",
       "      <td>['Single-player']</td>\n",
       "      <td>OS: |  windows 7/8/10/11 | Processor: |  i5 | ...</td>\n",
       "      <td>dungeon legend</td>\n",
       "      <td>this is a casual breakout game. the pace of th...</td>\n",
       "      <td>14.49</td>\n",
       "    </tr>\n",
       "    <tr>\n",
       "      <th>60027</th>\n",
       "      <td>Sea of Stars</td>\n",
       "      <td>Free</td>\n",
       "      <td>2023-08-29</td>\n",
       "      <td>Sea of Stars is a turn-based RPG inspired by t...</td>\n",
       "      <td>NaN</td>\n",
       "      <td>Sabotage Studio</td>\n",
       "      <td>Sabotage Studio</td>\n",
       "      <td>['English', 'French', 'German', 'Spanish - Spa...</td>\n",
       "      <td>['RPG', 'Pixel Graphics', 'Adventure', 'Turn-B...</td>\n",
       "      <td>['Single-player', 'Steam Achievements', 'Full ...</td>\n",
       "      <td>OS: |  Windows 7, Windows 10 | Processor: |  I...</td>\n",
       "      <td>sea of stars</td>\n",
       "      <td>sea of stars is a turn-based rpg inspired by t...</td>\n",
       "      <td>0.00</td>\n",
       "    </tr>\n",
       "    <tr>\n",
       "      <th>60028</th>\n",
       "      <td>Sunkenland</td>\n",
       "      <td>Free</td>\n",
       "      <td>2023-08-25</td>\n",
       "      <td>Get ready for a Waterworld-themed survival gam...</td>\n",
       "      <td>NaN</td>\n",
       "      <td>Vector3 Studio</td>\n",
       "      <td>Vector3 Studio</td>\n",
       "      <td>['English', 'Simplified Chinese', 'French', 'G...</td>\n",
       "      <td>['Early Access', 'Open World Survival Craft', ...</td>\n",
       "      <td>['Single-player', 'Online Co-op', 'LAN Co-op',...</td>\n",
       "      <td>OS: |  Windows 7 | Processor: |  Intel Dual-Co...</td>\n",
       "      <td>sunkenland</td>\n",
       "      <td>get ready for a waterworld-themed survival gam...</td>\n",
       "      <td>0.00</td>\n",
       "    </tr>\n",
       "  </tbody>\n",
       "</table>\n",
       "<p>60029 rows × 14 columns</p>\n",
       "</div>"
      ],
      "text/plain": [
       "                                  title original_price release_date  \\\n",
       "0                       Baldur's Gate 3         $29.99   2023-08-03   \n",
       "1      Counter-Strike: Global Offensive         $14.99   2012-08-21   \n",
       "2                         Apex Legends™           Free   2020-11-04   \n",
       "3                       Forza Horizon 5         $34.78   2021-11-08   \n",
       "4                         Call of Duty®           Free   2022-10-27   \n",
       "...                                 ...            ...          ...   \n",
       "60024                       Cruo Domine           Free   2023-04-21   \n",
       "60025                           Retchid         $12.49   2023-08-18   \n",
       "60026                    Dungeon Legend         $14.49   2023-04-01   \n",
       "60027                      Sea of Stars           Free   2023-08-29   \n",
       "60028                        Sunkenland           Free   2023-08-25   \n",
       "\n",
       "                                        game_description reviews_summary  \\\n",
       "0      Baldur’s Gate 3 is a story-rich, party-based R...   Very Positive   \n",
       "1      Counter-Strike: Global Offensive (CS: GO) expa...   Very Positive   \n",
       "2      Apex Legends is the award-winning, free-to-pla...   Very Positive   \n",
       "3      Your Ultimate Horizon Adventure awaits! Explor...   Very Positive   \n",
       "4      Welcome to Call of Duty® HQ, the home of Call ...           Mixed   \n",
       "...                                                  ...             ...   \n",
       "60024  Survive in a hostile space environment with ra...             NaN   \n",
       "60025  You are a TEC Engineer from Earth ordered to r...             NaN   \n",
       "60026  This is a casual breakout game. The pace of th...             NaN   \n",
       "60027  Sea of Stars is a turn-based RPG inspired by t...             NaN   \n",
       "60028  Get ready for a Waterworld-themed survival gam...             NaN   \n",
       "\n",
       "                                               developer  \\\n",
       "0                                         Larian Studios   \n",
       "1                       Valve, Hidden Path Entertainment   \n",
       "2                                  Respawn Entertainment   \n",
       "3                                       Playground Games   \n",
       "4      Infinity Ward, Raven Software, Beenox, Treyarc...   \n",
       "...                                                  ...   \n",
       "60024                                       Jiri Otoupal   \n",
       "60025                              From Beneath Software   \n",
       "60026                        Louis Winfield Game Studios   \n",
       "60027                                    Sabotage Studio   \n",
       "60028                                     Vector3 Studio   \n",
       "\n",
       "                         publisher  \\\n",
       "0                   Larian Studios   \n",
       "1                            Valve   \n",
       "2                  Electronic Arts   \n",
       "3                Xbox Game Studios   \n",
       "4                       Activision   \n",
       "...                            ...   \n",
       "60024                 Jiri Otoupal   \n",
       "60025        From Beneath Software   \n",
       "60026  Louis Winfield Game Studios   \n",
       "60027              Sabotage Studio   \n",
       "60028               Vector3 Studio   \n",
       "\n",
       "                                     supported_languages  \\\n",
       "0      ['English', 'French', 'German', 'Spanish - Spa...   \n",
       "1      ['English', 'Czech', 'Danish', 'Dutch', 'Finni...   \n",
       "2      ['English', 'French', 'Italian', 'German', 'Sp...   \n",
       "3      ['English', 'French', 'Italian', 'German', 'Sp...   \n",
       "4      ['English', 'French', 'Italian', 'German', 'Sp...   \n",
       "...                                                  ...   \n",
       "60024                                        ['English']   \n",
       "60025                                        ['English']   \n",
       "60026                                        ['English']   \n",
       "60027  ['English', 'French', 'German', 'Spanish - Spa...   \n",
       "60028  ['English', 'Simplified Chinese', 'French', 'G...   \n",
       "\n",
       "                                            popular_tags  \\\n",
       "0      ['RPG', 'Choices Matter', 'Character Customiza...   \n",
       "1      ['FPS', 'Shooter', 'Multiplayer', 'Competitive...   \n",
       "2      ['Free to Play', 'Multiplayer', 'Battle Royale...   \n",
       "3      ['Racing', 'Open World', 'Driving', 'Multiplay...   \n",
       "4      ['FPS', 'Multiplayer', 'Shooter', 'Action', 'S...   \n",
       "...                                                  ...   \n",
       "60024  ['Early Access', 'Action', 'Adventure', 'RPG',...   \n",
       "60025  ['Early Access', 'Action', 'FPS', 'Shooter', '...   \n",
       "60026  ['Casual', 'Rhythm', '3D Platformer', '2.5D', ...   \n",
       "60027  ['RPG', 'Pixel Graphics', 'Adventure', 'Turn-B...   \n",
       "60028  ['Early Access', 'Open World Survival Craft', ...   \n",
       "\n",
       "                                           game_features  \\\n",
       "0      ['Single-player', 'Online Co-op', 'LAN Co-op',...   \n",
       "1      ['Steam Achievements', 'Full controller suppor...   \n",
       "2      ['Online PvP', 'Online Co-op', 'Steam Achievem...   \n",
       "3      ['Single-player', 'Online PvP', 'Online Co-op'...   \n",
       "4      ['Single-player', 'Online PvP', 'Online Co-op'...   \n",
       "...                                                  ...   \n",
       "60024  ['Single-player', 'Steam Achievements', 'Track...   \n",
       "60025    ['Single-player', 'Partial Controller Support']   \n",
       "60026                                  ['Single-player']   \n",
       "60027  ['Single-player', 'Steam Achievements', 'Full ...   \n",
       "60028  ['Single-player', 'Online Co-op', 'LAN Co-op',...   \n",
       "\n",
       "                                    minimum_requirements  \\\n",
       "0      Requires a 64-bit processor and operating syst...   \n",
       "1      OS: |  Windows® 7/Vista/XP | Processor: |  Int...   \n",
       "2      Requires a 64-bit processor and operating syst...   \n",
       "3      Requires a 64-bit processor and operating syst...   \n",
       "4      Requires a 64-bit processor and operating syst...   \n",
       "...                                                  ...   \n",
       "60024  Requires a 64-bit processor and operating syst...   \n",
       "60025  Requires a 64-bit processor and operating syst...   \n",
       "60026  OS: |  windows 7/8/10/11 | Processor: |  i5 | ...   \n",
       "60027  OS: |  Windows 7, Windows 10 | Processor: |  I...   \n",
       "60028  OS: |  Windows 7 | Processor: |  Intel Dual-Co...   \n",
       "\n",
       "                     normalized_title  \\\n",
       "0                      baldurs gate 3   \n",
       "1      counterstrike global offensive   \n",
       "2                        apex legends   \n",
       "3                     forza horizon 5   \n",
       "4                        call of duty   \n",
       "...                               ...   \n",
       "60024                     cruo domine   \n",
       "60025                         retchid   \n",
       "60026                  dungeon legend   \n",
       "60027                    sea of stars   \n",
       "60028                      sunkenland   \n",
       "\n",
       "                                           combined_text  price  \n",
       "0      baldur’s gate 3 is a story-rich, party-based r...  29.99  \n",
       "1      counter-strike: global offensive (cs: go) expa...  14.99  \n",
       "2      apex legends is the award-winning, free-to-pla...   0.00  \n",
       "3      your ultimate horizon adventure awaits! explor...  34.78  \n",
       "4      welcome to call of duty® hq, the home of call ...   0.00  \n",
       "...                                                  ...    ...  \n",
       "60024  survive in a hostile space environment with ra...   0.00  \n",
       "60025  you are a tec engineer from earth ordered to r...  12.49  \n",
       "60026  this is a casual breakout game. the pace of th...  14.49  \n",
       "60027  sea of stars is a turn-based rpg inspired by t...   0.00  \n",
       "60028  get ready for a waterworld-themed survival gam...   0.00  \n",
       "\n",
       "[60029 rows x 14 columns]"
      ]
     },
     "execution_count": 4,
     "metadata": {},
     "output_type": "execute_result"
    }
   ],
   "source": [
    "games_df['price'] = games_df['original_price'].str.replace('$', '', regex=False).str.replace(',', '', regex=False).replace('Free', '0').astype(float)\n",
    "games_df.reset_index(drop=True, inplace=True)\n",
    "games_df"
   ]
  },
  {
   "cell_type": "markdown",
   "id": "1fccdd3a",
   "metadata": {},
   "source": [
    "### Бейзлайн: Рекомендации по популярности (по количеству отзывов)"
   ]
  },
  {
   "cell_type": "code",
   "execution_count": 5,
   "id": "72992669",
   "metadata": {},
   "outputs": [],
   "source": [
    "def baseline_recommendations(df, top_n=10):\n",
    "    df_sorted_by_reviews = df.sort_values(by='review_encoded', ascending=False)\n",
    "    \n",
    "    return df_sorted_by_reviews[['title', 'original_price', 'reviews_summary', 'developer']].head(top_n)"
   ]
  },
  {
   "cell_type": "markdown",
   "id": "50e0f06a",
   "metadata": {},
   "source": [
    "## Оценка модели"
   ]
  },
  {
   "cell_type": "code",
   "execution_count": 6,
   "id": "7b397f16",
   "metadata": {},
   "outputs": [],
   "source": [
    "def mean_reciprocal_rank(actual, predicted):\n",
    "    ranks = []\n",
    "    for a, p in zip(actual, predicted):\n",
    "        rank = next((i + 1 for i, val in enumerate(p) if val == a), None)\n",
    "        ranks.append(1 / rank if rank else 0)\n",
    "    return np.mean(ranks)\n",
    "\n",
    "def precision_at_k(actual, predicted, k):\n",
    "    precision = 0\n",
    "    for a, p in zip(actual, predicted):\n",
    "        relevant = len([i for i in p[:k] if i == a])\n",
    "        precision += relevant / k\n",
    "    return precision / len(actual)\n",
    "\n",
    "def recall_at_k(actual, predicted, k):\n",
    "    recall = 0\n",
    "    for a, p in zip(actual, predicted):\n",
    "        relevant = len([i for i in p[:k] if i == a])\n",
    "        recall += relevant / len(p[:k])\n",
    "    return recall / len(actual)\n",
    "\n"
   ]
  },
  {
   "cell_type": "markdown",
   "id": "f668dd49",
   "metadata": {},
   "source": [
    "### Оценка основной модели"
   ]
  },
  {
   "cell_type": "code",
   "execution_count": 7,
   "id": "75406e2b",
   "metadata": {},
   "outputs": [],
   "source": [
    "def evaluate_model(test_df, top_n=10):\n",
    "    actual_recommendations = []\n",
    "    predicted_recommendations = []\n",
    "\n",
    "    for i, row in tqdm(test_df.iterrows(), total=len(test_df)):\n",
    "        game_title = row['title']\n",
    "        \n",
    "        # Получаем рекомендации для игры\n",
    "        recommended = recommend(game_title, top_n)\n",
    "        \n",
    "        # Сохраняем актуальные и предсказанные игры\n",
    "        actual_recommendations.append(game_title)\n",
    "        predicted_recommendations.append(recommended['title'].values.tolist())\n",
    "\n",
    "    # Рассчитываем MRR, Precision, Recall\n",
    "    mrr = mean_reciprocal_rank(actual_recommendations, predicted_recommendations)\n",
    "    precision = precision_at_k(actual_recommendations, predicted_recommendations, top_n)\n",
    "    recall = recall_at_k(actual_recommendations, predicted_recommendations, top_n)\n",
    "\n",
    "    return mrr, precision, recall\n",
    "\n"
   ]
  },
  {
   "cell_type": "markdown",
   "id": "cd30527d",
   "metadata": {},
   "source": [
    "### Оценка бейзлайна"
   ]
  },
  {
   "cell_type": "code",
   "execution_count": 8,
   "id": "9a29e64d",
   "metadata": {},
   "outputs": [],
   "source": [
    "def evaluate_baseline(test_df, top_n=10):\n",
    "    actual_recommendations = []\n",
    "    predicted_recommendations = []\n",
    "\n",
    "    for i, row in tqdm(test_df.iterrows(), total=len(test_df)):\n",
    "        game_title = row['title']\n",
    "        \n",
    "        # Получаем рекомендации по бейзлайну для каждой игры\n",
    "        recommended = baseline_recommendations(test_df, top_n)\n",
    "        \n",
    "        # Находим индекс текущей игры в списке рекомендаций\n",
    "        recommended_titles = recommended['title'].values.tolist()\n",
    "        actual_recommendations.append(game_title)\n",
    "        predicted_recommendations.append(recommended_titles)\n",
    "\n",
    "    # Рассчитываем MRR, Precision, Recall для бейзлайна\n",
    "    mrr = mean_reciprocal_rank(actual_recommendations, predicted_recommendations)\n",
    "    precision = precision_at_k(actual_recommendations, predicted_recommendations, top_n)\n",
    "    recall = recall_at_k(actual_recommendations, predicted_recommendations, top_n)\n",
    "\n",
    "    return mrr, precision, recall\n"
   ]
  },
  {
   "cell_type": "markdown",
   "id": "6cc7db3c",
   "metadata": {},
   "source": [
    "### Разделяем данные на обучающую и тестовую выборку"
   ]
  },
  {
   "cell_type": "code",
   "execution_count": 9,
   "id": "f7f0eb5b",
   "metadata": {},
   "outputs": [],
   "source": [
    "train_idx, test_idx = train_test_split(games_df.index, test_size=0.2, random_state=42)\n",
    "train_df = games_df.loc[train_idx].copy()\n",
    "test_df = games_df.loc[test_idx].copy()\n"
   ]
  },
  {
   "cell_type": "markdown",
   "id": "dc053fd4",
   "metadata": {},
   "source": [
    "### Обучи Doc2Vec на train_df"
   ]
  },
  {
   "cell_type": "code",
   "execution_count": 10,
   "id": "72a04019",
   "metadata": {},
   "outputs": [],
   "source": [
    "train_documents = [TaggedDocument(doc.split(), [i]) for i, doc in enumerate(train_df['combined_text'].astype(str))]\n",
    "doc2vec_model = Doc2Vec(vector_size=100, window=5, min_count=2, workers=4, epochs=40)\n",
    "doc2vec_model.build_vocab(train_documents)\n",
    "doc2vec_model.train(train_documents, total_examples=doc2vec_model.corpus_count, epochs=doc2vec_model.epochs)\n"
   ]
  },
  {
   "cell_type": "code",
   "execution_count": 11,
   "id": "5021ba6e",
   "metadata": {},
   "outputs": [],
   "source": [
    "# Вектора для train\n",
    "train_doc_vectors = np.array([doc2vec_model.infer_vector(doc.words) for doc in train_documents])\n",
    "\n",
    "# Вектора для test\n",
    "test_documents = [TaggedDocument(doc.split(), [i]) for i, doc in enumerate(test_df['combined_text'].astype(str))]\n",
    "test_doc_vectors = np.array([doc2vec_model.infer_vector(doc.words) for doc in test_documents])"
   ]
  },
  {
   "cell_type": "markdown",
   "id": "daacd13f",
   "metadata": {},
   "source": [
    "### Оценка основной модели"
   ]
  },
  {
   "cell_type": "code",
   "execution_count": 12,
   "id": "0b13eee3",
   "metadata": {},
   "outputs": [
    {
     "name": "stdout",
     "output_type": "stream",
     "text": [
      "Основная модель - MRR: 43\n",
      "Основная модель - Precision: 42.34\n",
      "Основная модель - Recall: 67.04\n"
     ]
    }
   ],
   "source": [
    "mrr, precision, recall = evaluate_model(test_df, top_n=10)\n",
    "print(f'Основная модель - MRR: {mrr:.2f}')\n",
    "print(f'Основная модель - Precision: {precision:.2f}')\n",
    "print(f'Основная модель - Recall: {recall:.2f}')\n",
    "\n"
   ]
  },
  {
   "cell_type": "markdown",
   "id": "07b3bfb4",
   "metadata": {},
   "source": [
    "### Оценка бейзлайна"
   ]
  },
  {
   "cell_type": "code",
   "execution_count": 60,
   "id": "ecb115f7",
   "metadata": {},
   "outputs": [
    {
     "name": "stderr",
     "output_type": "stream",
     "text": [
      "100%|███████████████████████████████████████████████████████████████████████████| 12006/12006 [00:20<00:00, 585.34it/s]"
     ]
    },
    {
     "name": "stdout",
     "output_type": "stream",
     "text": [
      "Бейзлайн - MRR: 0.00024395870847644958\n",
      "Бейзлайн - Precision: 8.329168748958853e-05\n",
      "Бейзлайн - Recall: 0.00\n"
     ]
    },
    {
     "name": "stderr",
     "output_type": "stream",
     "text": [
      "\n"
     ]
    }
   ],
   "source": [
    "mrr_baseline, precision_baseline, recall_baseline = evaluate_baseline(test_df, top_n=10)\n",
    "print(f'Бейзлайн - MRR: {mrr_baseline:.2f}')\n",
    "print(f'Бейзлайн - Precision: {precision_baseline:.2f}')\n",
    "print(f'Бейзлайн - Recall: {recall_baseline:.2f}')"
   ]
  },
  {
   "cell_type": "markdown",
   "id": "82b7de53",
   "metadata": {},
   "source": [
    "## Контентная модель на Doc2Vec:\n",
    "### Токенизация и обучение модели Doc2Vec\n"
   ]
  },
  {
   "cell_type": "code",
   "execution_count": 44,
   "id": "6f76cbb1",
   "metadata": {},
   "outputs": [],
   "source": [
    "games_df.reset_index(drop=True, inplace=True)\n",
    "\n",
    "documents = [TaggedDocument(doc.split(), [i]) for i, doc in enumerate(games_df['combined_text'].astype(str))]\n",
    "doc2vec_model = Doc2Vec(vector_size=100, window=5, min_count=2, workers=4, epochs=40)\n",
    "doc2vec_model.build_vocab(documents)\n",
    "doc2vec_model.train(documents, total_examples=doc2vec_model.corpus_count, epochs=doc2vec_model.epochs)\n"
   ]
  },
  {
   "cell_type": "markdown",
   "id": "bd1da73f",
   "metadata": {},
   "source": [
    "### Векторизация описаний"
   ]
  },
  {
   "cell_type": "code",
   "execution_count": 45,
   "id": "992916cb",
   "metadata": {},
   "outputs": [],
   "source": [
    "doc_vectors = np.array([doc2vec_model.infer_vector(doc.words) for doc in documents])"
   ]
  },
  {
   "cell_type": "markdown",
   "id": "163c4520",
   "metadata": {},
   "source": [
    "## Простая \"коллаборативная\" модель на признаках:\n",
    "### Преобразование категориальных признаков"
   ]
  },
  {
   "cell_type": "code",
   "execution_count": 7,
   "id": "c1124682",
   "metadata": {},
   "outputs": [],
   "source": [
    "encoder = LabelEncoder()\n",
    "games_df['developer_encoded'] = encoder.fit_transform(games_df['developer'])\n",
    "games_df['review_encoded'] = encoder.fit_transform(games_df['reviews_summary'])"
   ]
  },
  {
   "cell_type": "markdown",
   "id": "ba7dc6e4",
   "metadata": {},
   "source": [
    "### Преобразуем числовые признаки"
   ]
  },
  {
   "cell_type": "code",
   "execution_count": 8,
   "id": "72bb0822",
   "metadata": {},
   "outputs": [],
   "source": [
    "meta_features = games_df[['developer_encoded', 'review_encoded', 'price']].copy()\n",
    "scaler = MinMaxScaler()\n",
    "meta_scaled = scaler.fit_transform(meta_features)"
   ]
  },
  {
   "cell_type": "markdown",
   "id": "2825b920",
   "metadata": {},
   "source": [
    "### Масштабируем векторы Doc2Vec"
   ]
  },
  {
   "cell_type": "code",
   "execution_count": 9,
   "id": "d148ea3a",
   "metadata": {},
   "outputs": [],
   "source": [
    "doc_vectors_scaled = MinMaxScaler().fit_transform(doc_vectors)"
   ]
  },
  {
   "cell_type": "markdown",
   "id": "ab25362e",
   "metadata": {},
   "source": [
    "## Гибридная модель:"
   ]
  },
  {
   "cell_type": "code",
   "execution_count": 31,
   "id": "cf94ead8",
   "metadata": {},
   "outputs": [],
   "source": [
    "alpha = 0.7\n",
    "beta = 0.3\n",
    "\n",
    "# Масштабируем doc_vectors, чтобы они были сопоставимы по масштабам с мета-признаками\n",
    "doc_vectors_scaled = MinMaxScaler().fit_transform(doc_vectors)\n",
    "\n",
    "# Объединяем фичи\n",
    "combined_features = hstack([\n",
    "    alpha * doc_vectors_scaled,\n",
    "    beta * meta_scaled\n",
    "])"
   ]
  },
  {
   "cell_type": "markdown",
   "id": "43d850bb",
   "metadata": {},
   "source": [
    "### Функция для рекомендаций"
   ]
  },
  {
   "cell_type": "code",
   "execution_count": 38,
   "id": "85d84461",
   "metadata": {},
   "outputs": [],
   "source": [
    "def recommend(game_title, top_n=10):\n",
    "    idx = games_df[games_df['title'].str.lower() == game_title.lower()].index\n",
    "    if idx.empty:\n",
    "        return f\"Игра '{game_title}' не найдена.\"\n",
    "    \n",
    "    idx = idx[0]\n",
    "    target_vector = combined_features[idx].reshape(1, -1)\n",
    "    similarities = cosine_similarity(target_vector, combined_features)[0]\n",
    "    \n",
    "    # Получить индексы наиболее похожих игр (без самой себя)\n",
    "    similar_indices = similarities.argsort()[::-1][1:top_n+1]\n",
    "    \n",
    "    return games_df.iloc[similar_indices][['title', 'original_price', 'reviews_summary', 'developer']]"
   ]
  },
  {
   "cell_type": "markdown",
   "id": "f9a6146c",
   "metadata": {},
   "source": [
    "### Сохраняем Doc2Vec модель"
   ]
  },
  {
   "cell_type": "code",
   "execution_count": 65,
   "id": "a4520895",
   "metadata": {},
   "outputs": [],
   "source": [
    "doc2vec_model.save(\"models/doc2vec.model\")\n",
    "\n",
    "with open(\"models/scaler.pkl\", \"wb\") as f:\n",
    "    pickle.dump(scaler, f)\n",
    "\n",
    "np.save(\"models/combined_features.npy\", combined_features)\n",
    "\n",
    "games_df.to_parquet(\"source/games_processed.parquet\")"
   ]
  },
  {
   "cell_type": "code",
   "execution_count": null,
   "id": "4c114de5",
   "metadata": {},
   "outputs": [],
   "source": []
  },
  {
   "cell_type": "code",
   "execution_count": null,
   "id": "1931cb03-ef12-4220-b8c9-87fb1839b16b",
   "metadata": {},
   "outputs": [],
   "source": []
  }
 ],
 "metadata": {
  "kernelspec": {
   "display_name": "Python 3 (ipykernel)",
   "language": "python",
   "name": "python3"
  },
  "language_info": {
   "codemirror_mode": {
    "name": "ipython",
    "version": 3
   },
   "file_extension": ".py",
   "mimetype": "text/x-python",
   "name": "python",
   "nbconvert_exporter": "python",
   "pygments_lexer": "ipython3",
   "version": "3.12.7"
  }
 },
 "nbformat": 4,
 "nbformat_minor": 5
}
